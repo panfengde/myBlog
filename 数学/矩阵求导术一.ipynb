{
 "cells": [
  {
   "cell_type": "markdown",
   "metadata": {},
   "source": [
    "## 深度学习我认为最核心的被部分，是求导，更新的这个过程！\n",
    "\n",
    "这里涉及的矩阵求导，我觉得很复杂，看了很多的方法，记忆法则，真的是越看越不懂！\n",
    "\n",
    "清华那本书，也是太庞大了。\n",
    "\n",
    "** 学习大佬这个矩阵求导术方法，矩阵求导，算法推理，真的是迎刃而解！非常的nice。**\n",
    "\n",
    "感谢大佬。\n",
    "\n",
    "\n",
    "\n",
    "这里贴上图片，以防各种原因丢失\n",
    "\n",
    "<a href=\"https://zhuanlan.zhihu.com/p/24709748\" style=\"color:red\" >原文知乎链接</a>\n",
    " ## <  // img src=\"./img/jz1.png\" />\n",
    "\n"
   ]
  },
  {
   "cell_type": "code",
   "execution_count": null,
   "metadata": {},
   "outputs": [],
   "source": []
  }
 ],
 "metadata": {
  "kernelspec": {
   "display_name": "Python 3",
   "language": "python",
   "name": "python3"
  },
  "language_info": {
   "codemirror_mode": {
    "name": "ipython",
    "version": 3
   },
   "file_extension": ".py",
   "mimetype": "text/x-python",
   "name": "python",
   "nbconvert_exporter": "python",
   "pygments_lexer": "ipython3",
   "version": "3.6.5"
  }
 },
 "nbformat": 4,
 "nbformat_minor": 2
}
